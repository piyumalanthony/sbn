{
 "cells": [
  {
   "cell_type": "code",
   "id": "initial_id",
   "metadata": {
    "collapsed": true,
    "ExecuteTime": {
     "end_time": "2025-01-01T03:13:08.243296Z",
     "start_time": "2025-01-01T03:13:08.237966Z"
    }
   },
   "source": "from bitarray import bitarray",
   "outputs": [],
   "execution_count": 2
  },
  {
   "metadata": {
    "ExecuteTime": {
     "end_time": "2025-01-01T03:14:15.677605Z",
     "start_time": "2025-01-01T03:14:15.671958Z"
    }
   },
   "cell_type": "code",
   "source": [
    "a = bitarray(\"0110\")\n",
    "b = bitarray(\"1110\")"
   ],
   "id": "605c018c8cf23a59",
   "outputs": [],
   "execution_count": 6
  },
  {
   "metadata": {
    "ExecuteTime": {
     "end_time": "2025-01-01T03:14:15.944219Z",
     "start_time": "2025-01-01T03:14:15.939485Z"
    }
   },
   "cell_type": "code",
   "source": "c = a + b",
   "id": "e4f890b77c155d1c",
   "outputs": [],
   "execution_count": 7
  },
  {
   "metadata": {
    "ExecuteTime": {
     "end_time": "2025-01-01T03:14:16.262862Z",
     "start_time": "2025-01-01T03:14:16.257596Z"
    }
   },
   "cell_type": "code",
   "source": "print(c)",
   "id": "5dd3c80b7bc5ef6e",
   "outputs": [
    {
     "name": "stdout",
     "output_type": "stream",
     "text": [
      "bitarray('01101110')\n"
     ]
    }
   ],
   "execution_count": 8
  },
  {
   "metadata": {
    "ExecuteTime": {
     "end_time": "2025-01-01T03:19:29.553731Z",
     "start_time": "2025-01-01T03:19:29.546627Z"
    }
   },
   "cell_type": "code",
   "source": "print(a[:2])",
   "id": "9324fbe20c187f5",
   "outputs": [
    {
     "name": "stdout",
     "output_type": "stream",
     "text": [
      "bitarray('01')\n"
     ]
    }
   ],
   "execution_count": 9
  },
  {
   "metadata": {
    "ExecuteTime": {
     "end_time": "2025-01-01T03:19:57.700023Z",
     "start_time": "2025-01-01T03:19:57.692071Z"
    }
   },
   "cell_type": "code",
   "source": "print(a[:2] | a[:2])",
   "id": "83196f5abf415543",
   "outputs": [
    {
     "name": "stdout",
     "output_type": "stream",
     "text": [
      "bitarray('01')\n"
     ]
    }
   ],
   "execution_count": 10
  },
  {
   "metadata": {
    "ExecuteTime": {
     "end_time": "2025-01-01T03:20:45.886381Z",
     "start_time": "2025-01-01T03:20:45.879387Z"
    }
   },
   "cell_type": "code",
   "source": "print(a[:2] | a[2:])",
   "id": "9ce28216308f2dc",
   "outputs": [
    {
     "name": "stdout",
     "output_type": "stream",
     "text": [
      "bitarray('11')\n"
     ]
    }
   ],
   "execution_count": 11
  },
  {
   "metadata": {
    "ExecuteTime": {
     "end_time": "2025-01-01T03:25:23.046746Z",
     "start_time": "2025-01-01T03:25:23.039132Z"
    }
   },
   "cell_type": "code",
   "source": "int(a.to01(),2)",
   "id": "22906a971adafa09",
   "outputs": [
    {
     "data": {
      "text/plain": [
       "6"
      ]
     },
     "execution_count": 16,
     "metadata": {},
     "output_type": "execute_result"
    }
   ],
   "execution_count": 16
  },
  {
   "metadata": {
    "ExecuteTime": {
     "end_time": "2025-01-01T03:26:42.427363Z",
     "start_time": "2025-01-01T03:26:42.420130Z"
    }
   },
   "cell_type": "code",
   "source": "~a",
   "id": "1286b4e5dac2077e",
   "outputs": [
    {
     "data": {
      "text/plain": [
       "bitarray('1001')"
      ]
     },
     "execution_count": 17,
     "metadata": {},
     "output_type": "execute_result"
    }
   ],
   "execution_count": 17
  },
  {
   "metadata": {
    "ExecuteTime": {
     "end_time": "2025-01-01T03:27:07.777560Z",
     "start_time": "2025-01-01T03:27:07.770743Z"
    }
   },
   "cell_type": "code",
   "source": "int((~a).to01(),2)",
   "id": "5bee50a4ec5c199d",
   "outputs": [
    {
     "data": {
      "text/plain": [
       "9"
      ]
     },
     "execution_count": 19,
     "metadata": {},
     "output_type": "execute_result"
    }
   ],
   "execution_count": 19
  },
  {
   "metadata": {},
   "cell_type": "code",
   "outputs": [],
   "execution_count": null,
   "source": "",
   "id": "5d073d1e3d2ffc54"
  }
 ],
 "metadata": {
  "kernelspec": {
   "display_name": "Python 3",
   "language": "python",
   "name": "python3"
  },
  "language_info": {
   "codemirror_mode": {
    "name": "ipython",
    "version": 2
   },
   "file_extension": ".py",
   "mimetype": "text/x-python",
   "name": "python",
   "nbconvert_exporter": "python",
   "pygments_lexer": "ipython2",
   "version": "2.7.6"
  }
 },
 "nbformat": 4,
 "nbformat_minor": 5
}
