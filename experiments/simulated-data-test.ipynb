{
 "cells": [
  {
   "cell_type": "code",
   "id": "initial_id",
   "metadata": {
    "collapsed": true,
    "ExecuteTime": {
     "end_time": "2025-01-02T01:50:17.330161Z",
     "start_time": "2025-01-02T01:50:16.625131Z"
    }
   },
   "source": [
    "import os\n",
    "import numpy as np\n",
    "import matplotlib.pyplot as plt\n",
    "%matplotlib inline\n",
    "from collections import defaultdict\n",
    "from ete3 import Tree"
   ],
   "outputs": [],
   "execution_count": 1
  },
  {
   "metadata": {
    "ExecuteTime": {
     "end_time": "2025-01-02T01:50:17.418443Z",
     "start_time": "2025-01-02T01:50:17.338670Z"
    }
   },
   "cell_type": "code",
   "source": [
    "from models import SBN\n",
    "from utils import generate"
   ],
   "id": "febcacfbfbf3cc73",
   "outputs": [],
   "execution_count": 2
  },
  {
   "metadata": {
    "ExecuteTime": {
     "end_time": "2025-01-02T01:50:21.355866Z",
     "start_time": "2025-01-02T01:50:17.549120Z"
    }
   },
   "cell_type": "code",
   "source": [
    "taxa = list('ABCDEFGH')\n",
    "all_tree = generate(taxa)"
   ],
   "id": "1dc0f51722c4a086",
   "outputs": [],
   "execution_count": 3
  },
  {
   "metadata": {
    "ExecuteTime": {
     "end_time": "2025-01-02T01:50:21.370434Z",
     "start_time": "2025-01-02T01:50:21.366961Z"
    }
   },
   "cell_type": "code",
   "source": [
    "beta = 0.001\n",
    "K_v = 500"
   ],
   "id": "2afb81edc024385b",
   "outputs": [],
   "execution_count": 4
  },
  {
   "metadata": {
    "ExecuteTime": {
     "end_time": "2025-01-02T01:50:21.418640Z",
     "start_time": "2025-01-02T01:50:21.413648Z"
    }
   },
   "cell_type": "code",
   "source": "tree_space_cap = len(all_tree)",
   "id": "d7a27d1caebd3254",
   "outputs": [],
   "execution_count": 5
  },
  {
   "metadata": {
    "ExecuteTime": {
     "end_time": "2025-01-02T01:50:21.501605Z",
     "start_time": "2025-01-02T01:50:21.462667Z"
    }
   },
   "cell_type": "code",
   "source": "samp_freq = np.random.dirichlet(beta*np.ones(tree_space_cap))",
   "id": "abc1ac948d641ad",
   "outputs": [],
   "execution_count": 6
  },
  {
   "metadata": {
    "ExecuteTime": {
     "end_time": "2025-01-02T01:50:21.536626Z",
     "start_time": "2025-01-02T01:50:21.528848Z"
    }
   },
   "cell_type": "code",
   "source": "samp_freq",
   "id": "ccff31d11cc3053c",
   "outputs": [
    {
     "data": {
      "text/plain": [
       "array([8.42884149e-65, 0.00000000e+00, 2.13946050e-04, ...,\n",
       "       1.63525196e-72, 0.00000000e+00, 0.00000000e+00])"
      ]
     },
     "execution_count": 7,
     "metadata": {},
     "output_type": "execute_result"
    }
   ],
   "execution_count": 7
  },
  {
   "metadata": {
    "ExecuteTime": {
     "end_time": "2025-01-02T01:50:21.598671Z",
     "start_time": "2025-01-02T01:50:21.588866Z"
    }
   },
   "cell_type": "code",
   "source": "emp_tree_freq = {tree:samp_freq[i] for i, tree in enumerate(all_tree) if samp_freq[i]>1e-20}",
   "id": "4ce3e8593728e0e5",
   "outputs": [],
   "execution_count": 8
  },
  {
   "metadata": {
    "ExecuteTime": {
     "end_time": "2025-01-02T01:50:21.673031Z",
     "start_time": "2025-01-02T01:50:21.653087Z"
    }
   },
   "cell_type": "code",
   "source": "emp_tree_freq",
   "id": "bb9a4bafb6ea5fe6",
   "outputs": [
    {
     "data": {
      "text/plain": [
       "{Tree node '' (0x7878a6ba2c7): np.float64(0.00021394604975263117),\n",
       " Tree node '' (0x7878a6b01cd): np.float64(0.0010685424114888582),\n",
       " Tree node '' (0x7878a6b2a91): np.float64(1.4279144260244653e-07),\n",
       " Tree node '' (0x7878a6b20d6): np.float64(3.6291588897519335e-16),\n",
       " Tree node '' (0x7878a6b3240): np.float64(5.15178853950829e-06),\n",
       " Tree node '' (0x7878a6ac9d6): np.float64(2.1775590193776014e-12),\n",
       " Tree node '' (0x7878a6ae88e): np.float64(1.0477562457546182e-15),\n",
       " Tree node '' (0x7878a6afb8b): np.float64(9.417932946880767e-07),\n",
       " Tree node '' (0x7878a6a8776): np.float64(1.3138238246144348e-17),\n",
       " Tree node '' (0x7878a6a50af): np.float64(1.3557413795084876e-14),\n",
       " Tree node '' (0x7878a6a442e): np.float64(9.999968780067532e-10),\n",
       " Tree node '' (0x7878a41c285): np.float64(4.258189443957087e-18),\n",
       " Tree node '' (0x7878a41e1b5): np.float64(6.47130952903739e-07),\n",
       " Tree node '' (0x7878a4180c1): np.float64(0.002113471533719349),\n",
       " Tree node '' (0x7878a41f5ac): np.float64(2.391962726189263e-15),\n",
       " Tree node '' (0x7878a4180fd): np.float64(1.478394913730938e-18),\n",
       " Tree node '' (0x7878a41aafd): np.float64(4.1562125056997594e-12),\n",
       " Tree node '' (0x7878a41668b): np.float64(4.614046314782082e-09),\n",
       " Tree node '' (0x7878a417bb5): np.float64(0.006506619507007292),\n",
       " Tree node '' (0x7878a417b79): np.float64(7.884021924588738e-09),\n",
       " Tree node '' (0x7878a40d8a0): np.float64(2.51646857759157e-09),\n",
       " Tree node '' (0x7878a40e373): np.float64(1.1702826535181558e-19),\n",
       " Tree node '' (0x7878a40abcd): np.float64(0.0024689261954570036),\n",
       " Tree node '' (0x7878a405dd0): np.float64(1.1468441861562064e-08),\n",
       " Tree node '' (0x78789bfd01c): np.float64(4.472321358521516e-20),\n",
       " Tree node '' (0x78789bf96eb): np.float64(0.011255339814250016),\n",
       " Tree node '' (0x78789bf96fd): np.float64(0.0013351397426053233),\n",
       " Tree node '' (0x78789bfa2dc): np.float64(1.4377942274881144e-13),\n",
       " Tree node '' (0x78789bf6040): np.float64(6.554449602286477e-05),\n",
       " Tree node '' (0x78789bf13df): np.float64(0.016240856204605338),\n",
       " Tree node '' (0x78789bf32f1): np.float64(8.726821904188726e-12),\n",
       " Tree node '' (0x78789be8d97): np.float64(3.3730707761999476e-17),\n",
       " Tree node '' (0x78789b587fa): np.float64(5.327785943995971e-13),\n",
       " Tree node '' (0x78789b544f1): np.float64(1.7990144999928243e-06),\n",
       " Tree node '' (0x78789b4dfc1): np.float64(1.1863315074052496e-13),\n",
       " Tree node '' (0x7878b002f7f): np.float64(3.7801083152843e-08),\n",
       " Tree node '' (0x7878b01c6a0): np.float64(3.9927935548193046e-07),\n",
       " Tree node '' (0x7878b0a4a9a): np.float64(1.167572951313477e-11),\n",
       " Tree node '' (0x78789b4a861): np.float64(3.7451025943565144e-20),\n",
       " Tree node '' (0x78789b49d3a): np.float64(1.3440332807546018e-09),\n",
       " Tree node '' (0x78789b447b5): np.float64(0.010656396314883033),\n",
       " Tree node '' (0x78789b447a6): np.float64(1.2179573493725452e-09),\n",
       " Tree node '' (0x78789b47bee): np.float64(2.8956305313850633e-13),\n",
       " Tree node '' (0x787898b97a6): np.float64(3.1990327081253136e-14),\n",
       " Tree node '' (0x787898b6870): np.float64(1.809716242783804e-16),\n",
       " Tree node '' (0x787898b12df): np.float64(2.311457028569011e-15),\n",
       " Tree node '' (0x787898b31f7): np.float64(4.090609705197436e-08),\n",
       " Tree node '' (0x787898ae2d9): np.float64(8.441899473370877e-08),\n",
       " Tree node '' (0x787898af8a0): np.float64(1.1819692340795855e-14),\n",
       " Tree node '' (0x787898aabf7): np.float64(3.108777538984825e-12),\n",
       " Tree node '' (0x787898ab89d): np.float64(0.001111280942261861),\n",
       " Tree node '' (0x787898a4b8b): np.float64(5.618903675735378e-19),\n",
       " Tree node '' (0x787898a6aa6): np.float64(1.1120512892625884e-08),\n",
       " Tree node '' (0x7878981f1b5): np.float64(1.6207622407752071e-06),\n",
       " Tree node '' (0x787898187fa): np.float64(6.544122368989104e-20),\n",
       " Tree node '' (0x7878981ba97): np.float64(7.999141469970927e-14),\n",
       " Tree node '' (0x7878981369a): np.float64(9.207547750067489e-12),\n",
       " Tree node '' (0x7878980cb4c): np.float64(4.40612037434558e-08),\n",
       " Tree node '' (0x7878980df94): np.float64(2.2556851455791554e-18),\n",
       " Tree node '' (0x7878980e8e8): np.float64(2.3842159862048673e-20),\n",
       " Tree node '' (0x7878980898b): np.float64(4.5407902738383826e-10),\n",
       " Tree node '' (0x7878980bcd9): np.float64(7.770533112670406e-17),\n",
       " Tree node '' (0x78789802ce2): np.float64(4.9427300398104155e-17),\n",
       " Tree node '' (0x787887fcbdc): np.float64(1.1048315912518911e-08),\n",
       " Tree node '' (0x787887fead6): np.float64(3.4981670335381484e-20),\n",
       " Tree node '' (0x787887fbca3): np.float64(5.580220904991504e-06),\n",
       " Tree node '' (0x787887f66e8): np.float64(1.7838485361781976e-16),\n",
       " Tree node '' (0x787887f66df): np.float64(2.627953618952771e-20),\n",
       " Tree node '' (0x787887f2fe8): np.float64(2.6550014157989053e-10),\n",
       " Tree node '' (0x787887eecee): np.float64(1.271720310625237e-16),\n",
       " Tree node '' (0x787887ee1c1): np.float64(1.1706441743586148e-09),\n",
       " Tree node '' (0x787887e529a): np.float64(3.309125600659456e-11),\n",
       " Tree node '' (0x7878855d2df): np.float64(1.7706085911437832e-08),\n",
       " Tree node '' (0x7878855db6a): np.float64(1.5612116791451976e-11),\n",
       " Tree node '' (0x7878855095b): np.float64(9.901378260762108e-15),\n",
       " Tree node '' (0x7878855338b): np.float64(8.42085958595048e-18),\n",
       " Tree node '' (0x78788548582): np.float64(0.03037376600609794),\n",
       " Tree node '' (0x787885464c4): np.float64(2.6324315792858086e-08),\n",
       " Tree node '' (0x787884b9446): np.float64(7.44006960038835e-15),\n",
       " Tree node '' (0x787884ba8f7): np.float64(5.666586216334868e-16),\n",
       " Tree node '' (0x787884ad7f1): np.float64(1.7720341759181178e-17),\n",
       " Tree node '' (0x787884a8bd6): np.float64(6.475519717590462e-16),\n",
       " Tree node '' (0x787884a9476): np.float64(7.183812223914463e-18),\n",
       " Tree node '' (0x787884a8bc7): np.float64(5.090006301917932e-07),\n",
       " Tree node '' (0x787884ab5e5): np.float64(3.430723172574242e-07),\n",
       " Tree node '' (0x787884abefd): np.float64(2.0960142496072442e-15),\n",
       " Tree node '' (0x7878821faf4): np.float64(2.705808061588116e-10),\n",
       " Tree node '' (0x78788214ddc): np.float64(4.96574768789955e-16),\n",
       " Tree node '' (0x7878b0020a0): np.float64(2.9861045808196724e-11),\n",
       " Tree node '' (0x7878b019fca): np.float64(2.431129042716015e-09),\n",
       " Tree node '' (0x7878b0a7a04): np.float64(1.9763713971757647e-20),\n",
       " Tree node '' (0x7878820e416): np.float64(0.018836786020111865),\n",
       " Tree node '' (0x7878820e994): np.float64(1.1374147795431832e-06),\n",
       " Tree node '' (0x7878820ace5): np.float64(0.027654923306732807),\n",
       " Tree node '' (0x78788204db5): np.float64(1.4187580609058718e-17),\n",
       " Tree node '' (0x787882076e2): np.float64(1.359823862318099e-14),\n",
       " Tree node '' (0x78787f7f5b8): np.float64(5.502585538838878e-13),\n",
       " Tree node '' (0x78787f7bc4c): np.float64(5.650437288600398e-17),\n",
       " Tree node '' (0x78787f771f7): np.float64(2.600884711467323e-12),\n",
       " Tree node '' (0x78787f70e2e): np.float64(1.1517613993034946e-08),\n",
       " Tree node '' (0x78787f705f7): np.float64(5.573432042685354e-17),\n",
       " Tree node '' (0x78787f73ac7): np.float64(1.502863010960162e-17),\n",
       " Tree node '' (0x78787f6d8c7): np.float64(6.138272632174008e-13),\n",
       " Tree node '' (0x78787f681ee): np.float64(1.8580579588922534e-20),\n",
       " Tree node '' (0x78787f69e85): np.float64(3.5263539887877764e-19),\n",
       " Tree node '' (0x78787f65dbb): np.float64(2.7322530320330382e-08),\n",
       " Tree node '' (0x78787f654c4): np.float64(0.00569833572067875),\n",
       " Tree node '' (0x78787f673dc): np.float64(4.5771003339910045e-09),\n",
       " Tree node '' (0x78787f673c7): np.float64(6.200583785083742e-12),\n",
       " Tree node '' (0x78787ade694): np.float64(1.9439699594300195e-12),\n",
       " Tree node '' (0x78787adfab5): np.float64(2.9404702208227936e-18),\n",
       " Tree node '' (0x78787adb7dc): np.float64(4.3909894867949316e-16),\n",
       " Tree node '' (0x78787ad43fd): np.float64(4.285856405472194e-14),\n",
       " Tree node '' (0x78787ad7fac): np.float64(5.700474274348895e-13),\n",
       " Tree node '' (0x78787ad0ca0): np.float64(0.007760535727974868),\n",
       " Tree node '' (0x78787ad3ebe): np.float64(0.006328713308383866),\n",
       " Tree node '' (0x78787ace8be): np.float64(2.232352561911123e-12),\n",
       " Tree node '' (0x78787acaecd): np.float64(2.442919070670923e-08),\n",
       " Tree node '' (0x78787ac43a3): np.float64(3.3415292056653906e-11),\n",
       " Tree node '' (0x78787ac4fee): np.float64(2.452068720132118e-16),\n",
       " Tree node '' (0x78787ac599a): np.float64(2.5535233344423547e-09),\n",
       " Tree node '' (0x7878783ccfd): np.float64(2.715118819326456e-17),\n",
       " Tree node '' (0x7878783c1c7): np.float64(5.360011111612373e-12),\n",
       " Tree node '' (0x7878783ebdc): np.float64(2.7845287503072224e-14),\n",
       " Tree node '' (0x7878783f5c4): np.float64(5.474987635948506e-09),\n",
       " Tree node '' (0x78787835de5): np.float64(1.0363917480018992e-11),\n",
       " Tree node '' (0x78787836fe2): np.float64(3.1471648001614634e-19),\n",
       " Tree node '' (0x78787836fb5): np.float64(1.446433177431162e-17),\n",
       " Tree node '' (0x7878783068e): np.float64(8.903259149277818e-17),\n",
       " Tree node '' (0x787878306c4): np.float64(0.010039614448058128),\n",
       " Tree node '' (0x787878306f7): np.float64(4.724094517416471e-08),\n",
       " Tree node '' (0x7878782c3ee): np.float64(3.2593664101116362e-19),\n",
       " Tree node '' (0x7878782ed58): np.float64(7.53306140422913e-19),\n",
       " Tree node '' (0x7878782b5ee): np.float64(0.007275553172249773),\n",
       " Tree node '' (0x787878252b8): np.float64(5.4745870625665126e-11),\n",
       " Tree node '' (0x787878249af): np.float64(1.2988405594173564e-13),\n",
       " Tree node '' (0x7878759e7b5): np.float64(1.808608760766883e-19),\n",
       " Tree node '' (0x7878759f1cd): np.float64(2.360207959549896e-10),\n",
       " Tree node '' (0x7878759b8b5): np.float64(1.942622838294854e-18),\n",
       " Tree node '' (0x78787596d76): np.float64(3.076865358296638e-07),\n",
       " Tree node '' (0x78787591faf): np.float64(3.5202970265914995e-14),\n",
       " Tree node '' (0x787875935d6): np.float64(0.004298884448196199),\n",
       " Tree node '' (0x78787593528): np.float64(2.5545209868660443e-15),\n",
       " Tree node '' (0x7878758dde8): np.float64(3.761339770464346e-17),\n",
       " Tree node '' (0x7878758ddc1): np.float64(2.2128197150143473e-17),\n",
       " Tree node '' (0x7878758f2a3): np.float64(4.435609145429774e-09),\n",
       " Tree node '' (0x787875887ac): np.float64(1.1489138554799062e-19),\n",
       " Tree node '' (0x7878758b0b5): np.float64(1.442757878247176e-12),\n",
       " Tree node '' (0x7878758a6be): np.float64(1.248521392742707e-12),\n",
       " Tree node '' (0x787874fc1cd): np.float64(1.429382245107231e-07),\n",
       " Tree node '' (0x787874fcd64): np.float64(1.1206078763296375e-19),\n",
       " Tree node '' (0x787874fecee): np.float64(6.268439297630698e-16),\n",
       " Tree node '' (0x787874fecd6): np.float64(0.0005432811204212082),\n",
       " Tree node '' (0x787874f7b9d): np.float64(3.333190551204385e-13),\n",
       " Tree node '' (0x787874f0679): np.float64(0.02019655882843086),\n",
       " Tree node '' (0x787874f30ca): np.float64(2.4387030140834052e-08),\n",
       " Tree node '' (0x787874f3910): np.float64(1.8008753464039546e-08),\n",
       " Tree node '' (0x787874ef8c7): np.float64(1.7009227729300717e-16),\n",
       " Tree node '' (0x787874ef89a): np.float64(2.635039382655446e-16),\n",
       " Tree node '' (0x787874e8c79): np.float64(9.273093296763106e-16),\n",
       " Tree node '' (0x787874e5ec7): np.float64(5.9840328015042305e-18),\n",
       " Tree node '' (0x787874e5579): np.float64(1.7943159211995785e-14),\n",
       " Tree node '' (0x78787058ff1): np.float64(5.062573744122841e-11),\n",
       " Tree node '' (0x7878705b8f7): np.float64(1.2439027371153809e-06),\n",
       " Tree node '' (0x78787054e10): np.float64(0.005728989537217306),\n",
       " Tree node '' (0x787870558a0): np.float64(7.83505276926543e-13),\n",
       " Tree node '' (0x78787056131): np.float64(0.00017434890968924936),\n",
       " Tree node '' (0x787870576eb): np.float64(1.7474606776107004e-16),\n",
       " Tree node '' (0x787870535f7): np.float64(5.547209738654106e-15),\n",
       " Tree node '' (0x787870451b5): np.float64(5.403913262913953e-20),\n",
       " Tree node '' (0x78786dbf631): np.float64(3.115766455414371e-19),\n",
       " Tree node '' (0x78786db9ff7): np.float64(0.012303545104497902),\n",
       " Tree node '' (0x78786db5cd0): np.float64(4.775686717312775e-13),\n",
       " Tree node '' (0x78786db06a9): np.float64(6.206454438541084e-17),\n",
       " Tree node '' (0x78786db1a70): np.float64(0.0006769282503448185),\n",
       " Tree node '' (0x78786dac2eb): np.float64(1.7100918788554706e-16),\n",
       " Tree node '' (0x78786daedfa): np.float64(0.0002892109666892647),\n",
       " Tree node '' (0x78786da978b): np.float64(1.8220808124694229e-09),\n",
       " Tree node '' (0x78786daa0a9): np.float64(0.007626994563735322),\n",
       " Tree node '' (0x78786dab6df): np.float64(1.6988747800308242e-18),\n",
       " Tree node '' (0x78786dabfcd): np.float64(4.489973903961394e-05),\n",
       " Tree node '' (0x78786dab6d0): np.float64(7.876470163199892e-10),\n",
       " Tree node '' (0x78786da4ab5): np.float64(0.00015835041137516023),\n",
       " Tree node '' (0x78786da5eb5): np.float64(0.1702164950731204),\n",
       " Tree node '' (0x78786da5e34): np.float64(2.1486313934472133e-16),\n",
       " Tree node '' (0x78786b1d291): np.float64(2.93169289056083e-13),\n",
       " Tree node '' (0x78786b1fb70): np.float64(0.0010315681425426412),\n",
       " Tree node '' (0x78786b18588): np.float64(2.436374917415261e-13),\n",
       " Tree node '' (0x78786b1b9c4): np.float64(3.0110754294559363e-16),\n",
       " Tree node '' (0x78786b142c1): np.float64(2.3011105601346116e-07),\n",
       " Tree node '' (0x78786b15828): np.float64(7.719086526141074e-19),\n",
       " Tree node '' (0x78786b16b64): np.float64(5.6713511419265034e-05),\n",
       " Tree node '' (0x78786b09bcd): np.float64(7.040542573865861e-13),\n",
       " Tree node '' (0x78786b0b0cd): np.float64(1.6271035831401814e-11),\n",
       " Tree node '' (0x78786b0432b): np.float64(7.68338010527307e-11),\n",
       " Tree node '' (0x78786b0639a): np.float64(1.239367534823615e-17),\n",
       " Tree node '' (0x78786b06ec7): np.float64(6.077364255271865e-20),\n",
       " Tree node '' (0x78786b078c7): np.float64(1.6964357462520804e-15),\n",
       " Tree node '' (0x78786875264): np.float64(1.3417064256342563e-08),\n",
       " Tree node '' (0x78786877bac): np.float64(1.7939978070520477e-12),\n",
       " Tree node '' (0x787868705a3): np.float64(0.0034686117004654507),\n",
       " Tree node '' (0x78786877bc7): np.float64(0.0018467186945398456),\n",
       " Tree node '' (0x787868710a0): np.float64(5.0679979447615615e-14),\n",
       " Tree node '' (0x787868722ee): np.float64(1.8399983982823266e-20),\n",
       " Tree node '' (0x78786871bd0): np.float64(1.942916876230961e-13),\n",
       " Tree node '' (0x78786873a9a): np.float64(5.4660214586285813e-17),\n",
       " Tree node '' (0x7878686d985): np.float64(1.15369251094633e-19),\n",
       " Tree node '' (0x7878686f8c7): np.float64(5.553011507489221e-11),\n",
       " Tree node '' (0x78786869fcd): np.float64(3.1694531899201856e-18),\n",
       " Tree node '' (0x787868697f4): np.float64(1.7136052009485203e-18),\n",
       " Tree node '' (0x787868640b5): np.float64(4.448552179795534e-13),\n",
       " Tree node '' (0x787867dc7a9): np.float64(8.80366232383091e-12),\n",
       " Tree node '' (0x787867db9c4): np.float64(1.8911905809948752e-18),\n",
       " Tree node '' (0x787867d6aac): np.float64(2.7334949684502283e-18),\n",
       " Tree node '' (0x787867cddcd): np.float64(3.860810456340676e-16),\n",
       " Tree node '' (0x787867ce8e8): np.float64(0.06523341987154474),\n",
       " Tree node '' (0x787867c42c4): np.float64(7.679340594381007e-08),\n",
       " Tree node '' (0x7878653ff76): np.float64(4.1192552273546286e-05),\n",
       " Tree node '' (0x7878653f4f7): np.float64(1.5336748493017948e-08),\n",
       " Tree node '' (0x7878653ff4c): np.float64(3.010286936444225e-15),\n",
       " Tree node '' (0x7878653b3af): np.float64(1.0100742270961334e-19),\n",
       " Tree node '' (0x787865352ee): np.float64(6.957526497066398e-05),\n",
       " Tree node '' (0x787865352d9): np.float64(1.3533737685454875e-06),\n",
       " Tree node '' (0x7878652aae8): np.float64(6.613717344375846e-20),\n",
       " Tree node '' (0x7878652bfc1): np.float64(1.3894795339357794e-18),\n",
       " Tree node '' (0x787865272e8): np.float64(9.053194267997081e-17),\n",
       " Tree node '' (0x7878609e6cd): np.float64(5.003096576317208e-07),\n",
       " Tree node '' (0x7878609e62e): np.float64(1.0169076607657243e-16),\n",
       " Tree node '' (0x7878609fbeb): np.float64(4.296662234699867e-06),\n",
       " Tree node '' (0x78786089b58): np.float64(0.021229089657789052),\n",
       " Tree node '' (0x78785dfe1ee): np.float64(3.2063231499790105e-06),\n",
       " Tree node '' (0x78785df89b2): np.float64(3.7762675517695e-20),\n",
       " Tree node '' (0x78785df9ea3): np.float64(0.16492903041525367),\n",
       " Tree node '' (0x78785df5dca): np.float64(8.443173159952538e-17),\n",
       " Tree node '' (0x78785df71fa): np.float64(0.0002832411405661373),\n",
       " Tree node '' (0x78785df10e8): np.float64(1.6245717901954593e-14),\n",
       " Tree node '' (0x78785df10f4): np.float64(0.013466552971518199),\n",
       " Tree node '' (0x78785df3aca): np.float64(1.3391682177512582e-18),\n",
       " Tree node '' (0x78785decdb8): np.float64(2.0330241807850044e-17),\n",
       " Tree node '' (0x78785dea1b5): np.float64(6.33467122228835e-05),\n",
       " Tree node '' (0x78785dea1ca): np.float64(1.5744295386189966e-13),\n",
       " Tree node '' (0x78785deb4ca): np.float64(0.0002110558194765071),\n",
       " Tree node '' (0x78785de4ae5): np.float64(1.0810015133979374e-15),\n",
       " Tree node '' (0x7878a7fc0be): np.float64(1.3548176949899583e-08),\n",
       " Tree node '' (0x7878b019f13): np.float64(1.0423237015552229e-07),\n",
       " Tree node '' (0x78785de5d07): np.float64(0.0019217011754984947),\n",
       " Tree node '' (0x78785b5faa0): np.float64(4.086092966453812e-12),\n",
       " Tree node '' (0x7878704c891): np.float64(1.0801348396182658e-07),\n",
       " Tree node '' (0x78785b54458): np.float64(2.71550207629457e-20),\n",
       " Tree node '' (0x78785b54efa): np.float64(1.6239660517728132e-18),\n",
       " Tree node '' (0x78785b55655): np.float64(0.006079693462586364),\n",
       " Tree node '' (0x78785b556c1): np.float64(4.2254202129254065e-08),\n",
       " Tree node '' (0x78785b502b5): np.float64(0.008462733268355074),\n",
       " Tree node '' (0x78785b51fee): np.float64(1.1277227073639224e-17),\n",
       " Tree node '' (0x78785b51f8b): np.float64(2.2583454851212415e-16),\n",
       " Tree node '' (0x78785b53fb5): np.float64(4.166061839706552e-09),\n",
       " Tree node '' (0x78785b4d4f7): np.float64(1.3331684768075407e-12),\n",
       " Tree node '' (0x78785b45bbe): np.float64(0.00012954583476517323),\n",
       " Tree node '' (0x78785b46fbe): np.float64(5.992226532196674e-12),\n",
       " Tree node '' (0x78785ab81f7): np.float64(1.3926171395302527e-15),\n",
       " Tree node '' (0x78785ab8cc7): np.float64(2.679043691364895e-10),\n",
       " Tree node '' (0x78785ab48c7): np.float64(3.604178077339807e-07),\n",
       " Tree node '' (0x78785ab72e5): np.float64(3.055504527528204e-17),\n",
       " Tree node '' (0x78785ab258b): np.float64(8.077897561562866e-17),\n",
       " Tree node '' (0x78785ab2fe2): np.float64(6.3440356110069965e-09),\n",
       " Tree node '' (0x78785aaa0b8): np.float64(5.007858992497148e-19),\n",
       " Tree node '' (0x78785aaa0f1): np.float64(1.1115483336669629e-13),\n",
       " Tree node '' (0x78785aa4bd0): np.float64(9.165292216387855e-10),\n",
       " Tree node '' (0x78785a1ddd0): np.float64(9.16584290324298e-15),\n",
       " Tree node '' (0x78785a1a594): np.float64(1.2702947401017632e-08),\n",
       " Tree node '' (0x78785a163fd): np.float64(1.3197459342201242e-11),\n",
       " Tree node '' (0x78785a16eee): np.float64(3.977325364251895e-08),\n",
       " Tree node '' (0x78785a163ac): np.float64(0.0005661108557318186),\n",
       " Tree node '' (0x78785a12bcd): np.float64(4.382500293130713e-17),\n",
       " Tree node '' (0x78785a0f2e2): np.float64(8.7374138876959e-10),\n",
       " Tree node '' (0x78785a08894): np.float64(1.0799715343547327e-07),\n",
       " Tree node '' (0x78785a045be): np.float64(4.493805805843858e-10),\n",
       " Tree node '' (0x78785a045f1): np.float64(4.820611944960502e-16),\n",
       " Tree node '' (0x78785a07894): np.float64(3.1319561683170775e-06),\n",
       " Tree node '' (0x7878597a9df): np.float64(1.5777120410671018e-06),\n",
       " Tree node '' (0x78785979e8b): np.float64(1.2899898988893737e-18),\n",
       " Tree node '' (0x78785974916): np.float64(7.165332320354866e-19),\n",
       " Tree node '' (0x787859698a3): np.float64(6.389273313781976e-16),\n",
       " Tree node '' (0x7878596b7c4): np.float64(3.670302479960244e-06),\n",
       " Tree node '' (0x7878596ac70): np.float64(2.611950119952042e-05),\n",
       " Tree node '' (0x7878596b7f7): np.float64(1.649074860588912e-11),\n",
       " Tree node '' (0x787859649f7): np.float64(0.000525168029896905),\n",
       " Tree node '' (0x787858dd3c4): np.float64(4.394216795216059e-11),\n",
       " Tree node '' (0x787858df2cd): np.float64(2.1497656966882413e-16),\n",
       " Tree node '' (0x787858db0a9): np.float64(1.9231123360036372e-20),\n",
       " Tree node '' (0x787858d17c7): np.float64(1.670117193690729e-20),\n",
       " Tree node '' (0x787858ccac7): np.float64(3.364675909232727e-17),\n",
       " Tree node '' (0x787858ce9cd): np.float64(0.00044285983246195466),\n",
       " Tree node '' (0x787858cfda3): np.float64(7.186442972513412e-13),\n",
       " Tree node '' (0x787858c5a76): np.float64(2.1652101331313986e-12),\n",
       " Tree node '' (0x787858c79af): np.float64(1.7687035521800259e-16),\n",
       " Tree node '' (0x787858c6feb): np.float64(9.899980113292995e-16),\n",
       " Tree node '' (0x787858381a3): np.float64(1.830310406291962e-13),\n",
       " Tree node '' (0x787858348eb): np.float64(4.7547118856405347e-11),\n",
       " Tree node '' (0x78785837dc1): np.float64(6.470248092927457e-18),\n",
       " Tree node '' (0x787858311e8): np.float64(4.4636526227875984e-14),\n",
       " Tree node '' (0x7878583112e): np.float64(5.773753697162746e-20),\n",
       " Tree node '' (0x78785831adf): np.float64(5.00717145671417e-07),\n",
       " Tree node '' (0x787858326cd): np.float64(1.3519205927628928e-15),\n",
       " Tree node '' (0x78785824094): np.float64(0.00042763802872595574),\n",
       " Tree node '' (0x78785825faf): np.float64(5.230741541235834e-16),\n",
       " Tree node '' (0x7878579c888): np.float64(1.4875856745402182e-16),\n",
       " Tree node '' (0x7878578ff61): np.float64(4.004153648724276e-07),\n",
       " Tree node '' (0x78785785094): np.float64(2.12014914025486e-18),\n",
       " Tree node '' (0x787857879e8): np.float64(0.0005532456525464732),\n",
       " Tree node '' (0x787857879eb): np.float64(3.1169567865710564e-13),\n",
       " Tree node '' (0x787846fe2c7): np.float64(1.2796913803573223e-20),\n",
       " Tree node '' (0x787846fe234): np.float64(2.245902659329334e-05),\n",
       " Tree node '' (0x787846fb58b): np.float64(1.2009748589169093e-17),\n",
       " Tree node '' (0x787846f7d70): np.float64(1.5475770313350465e-09),\n",
       " Tree node '' (0x787846ef9f7): np.float64(2.277734936551028e-15),\n",
       " Tree node '' (0x787846ef9a0): np.float64(1.8798693733686312e-19),\n",
       " Tree node '' (0x787846eeef7): np.float64(1.5646309782972584e-18),\n",
       " Tree node '' (0x787846bd72b): np.float64(1.0352733324568782e-09),\n",
       " Tree node '' (0x787846bf776): np.float64(1.4754627834633594e-05),\n",
       " Tree node '' (0x787846b958b): np.float64(5.727897372678514e-16),\n",
       " Tree node '' (0x787846b53f4): np.float64(4.4335807820703776e-16),\n",
       " Tree node '' (0x787846b07ee): np.float64(2.465037423928726e-10),\n",
       " Tree node '' (0x787846af897): np.float64(1.1162133211008377e-10),\n",
       " Tree node '' (0x787846aaa64): np.float64(8.213276873343751e-18),\n",
       " Tree node '' (0x787846a49e8): np.float64(8.000487569970289e-07),\n",
       " Tree node '' (0x787846a7297): np.float64(1.0418655987299158e-11),\n",
       " Tree node '' (0x787846a7da0): np.float64(1.5773972592429248e-07),\n",
       " Tree node '' (0x787846a2770): np.float64(1.0194797287271768e-09),\n",
       " Tree node '' (0x787846a31d3): np.float64(0.00011854853634024722),\n",
       " Tree node '' (0x787846a31c7): np.float64(4.690840201864976e-06),\n",
       " Tree node '' (0x7878704a9ca): np.float64(1.2367015356647149e-05),\n",
       " Tree node '' (0x7878469b5ee): np.float64(1.3359010053704403e-19),\n",
       " Tree node '' (0x78784694adc): np.float64(3.2672278237476656e-14),\n",
       " Tree node '' (0x787846973d9): np.float64(1.2344829640533271e-06),\n",
       " Tree node '' (0x7878468d0f1): np.float64(6.567736082332048e-06),\n",
       " Tree node '' (0x7878468a3ca): np.float64(1.9612785102614775e-08),\n",
       " Tree node '' (0x7878465e8a3): np.float64(3.6917522411468264e-12),\n",
       " Tree node '' (0x7878465fdd6): np.float64(0.23083182807783767),\n",
       " Tree node '' (0x7878465a6be): np.float64(0.00012173919724347456),\n",
       " Tree node '' (0x787846550e8): np.float64(1.5248709139180487e-06),\n",
       " Tree node '' (0x787846559dc): np.float64(6.286927249575005e-10),\n",
       " Tree node '' (0x787846564ee): np.float64(0.024228937721479916),\n",
       " Tree node '' (0x78784650bf7): np.float64(4.0281581438548064e-08),\n",
       " Tree node '' (0x7878464e8f7): np.float64(5.7277940959012455e-06),\n",
       " Tree node '' (0x787846489dc): np.float64(8.72063156589873e-18),\n",
       " Tree node '' (0x78784649cd6): np.float64(0.03236391262632093),\n",
       " Tree node '' (0x78784646476): np.float64(1.1025112871285313e-17),\n",
       " Tree node '' (0x78784646f97): np.float64(6.968908724410293e-16),\n",
       " Tree node '' (0x78784640fb8): np.float64(0.0020376019265204884),\n",
       " Tree node '' (0x78784640fca): np.float64(1.2671735408199157e-17),\n",
       " Tree node '' (0x78784642b55): np.float64(4.054827206478643e-11),\n",
       " Tree node '' (0x7878463c1e8): np.float64(5.2612511451901e-11),\n",
       " Tree node '' (0x7878463e2f7): np.float64(5.743944396461843e-13),\n",
       " Tree node '' (0x7878463ffee): np.float64(9.106391831321236e-16),\n",
       " Tree node '' (0x78784639434): np.float64(0.001765535481539916),\n",
       " Tree node '' (0x7878463a9f7): np.float64(2.04785670675512e-08),\n",
       " Tree node '' (0x787846367a3): np.float64(7.015904432339563e-06),\n",
       " Tree node '' (0x787846371f1): np.float64(3.5968938827512744e-07),\n",
       " Tree node '' (0x7878462cc8b): np.float64(2.0880796432796465e-15),\n",
       " Tree node '' (0x7878462ccf7): np.float64(4.687392866437806e-18),\n",
       " Tree node '' (0x7878462ecc1): np.float64(0.000587156723241888),\n",
       " Tree node '' (0x78784628b46): np.float64(1.5178141820048303e-06),\n",
       " Tree node '' (0x78784625df1): np.float64(7.88584605229442e-17),\n",
       " Tree node '' (0x787845fa4dc): np.float64(0.0034205896736684504),\n",
       " Tree node '' (0x787845f6df4): np.float64(9.472099217005162e-18),\n",
       " Tree node '' (0x787845e9b1f): np.float64(1.7392009962905262e-08),\n",
       " Tree node '' (0x787845e4dee): np.float64(8.161993417939583e-14),\n",
       " Tree node '' (0x787845e635e): np.float64(3.07982298903825e-12),\n",
       " Tree node '' (0x787845e20fa): np.float64(8.235500117319529e-20),\n",
       " Tree node '' (0x787845e35f4): np.float64(3.3337557511875076e-07),\n",
       " Tree node '' (0x787845de9e8): np.float64(0.0008988200468578896),\n",
       " Tree node '' (0x787845df3f1): np.float64(0.012921595517926581),\n",
       " Tree node '' (0x787845d46dc): np.float64(2.104268551753338e-17),\n",
       " Tree node '' (0x787845d50cd): np.float64(1.2804596300574447e-10),\n",
       " Tree node '' (0x787845cccdc): np.float64(2.8797744062426703e-20),\n",
       " Tree node '' (0x787845c8bc7): np.float64(3.935512050305736e-20),\n",
       " Tree node '' (0x787845cb376): np.float64(9.902058917797571e-18),\n",
       " Tree node '' (0x787845cbc22): np.float64(1.5239925895799473e-11),\n",
       " Tree node '' (0x787845c47cd): np.float64(8.526960277117157e-19),\n",
       " Tree node '' (0x787845c5cd3): np.float64(7.660522802151154e-14),\n",
       " Tree node '' (0x787845c7bd3): np.float64(3.186230160334973e-05),\n",
       " Tree node '' (0x787845c2ea6): np.float64(1.144343948326804e-19),\n",
       " Tree node '' (0x787845bd6f7): np.float64(1.6183379098759806e-11),\n",
       " Tree node '' (0x787845be264): np.float64(0.007056605705079476),\n",
       " Tree node '' (0x787845b95d9): np.float64(6.708446475464956e-05),\n",
       " Tree node '' (0x787845b10c7): np.float64(0.0030169418214678516),\n",
       " Tree node '' (0x787845b07ca): np.float64(3.1886044641373445e-11),\n",
       " Tree node '' (0x787845ad96a): np.float64(3.054447669684336e-09),\n",
       " Tree node '' (0x787845ad98b): np.float64(1.0394234124948065e-05),\n",
       " Tree node '' (0x787845a4be8): np.float64(5.549337708490302e-10),\n",
       " Tree node '' (0x787845a12f4): np.float64(8.308296732160209e-15),\n",
       " Tree node '' (0x7878459c6ca): np.float64(1.5713729298642686e-12),\n",
       " Tree node '' (0x7878459d1af): np.float64(1.3346923125389956e-20),\n",
       " Tree node '' (0x7878459f85b): np.float64(3.211378181053234e-13),\n",
       " Tree node '' (0x7878459efb5): np.float64(1.055646177454146e-18),\n",
       " Tree node '' (0x787845983e2): np.float64(5.088343601850327e-15),\n",
       " Tree node '' (0x78784597eb8): np.float64(3.6771070219378083e-10),\n",
       " Tree node '' (0x78784590aa3): np.float64(7.329472822837485e-05),\n",
       " Tree node '' (0x78784593dc4): np.float64(1.8236049518809267e-17),\n",
       " Tree node '' (0x787845843ee): np.float64(5.217546024013706e-11)}"
      ]
     },
     "execution_count": 9,
     "metadata": {},
     "output_type": "execute_result"
    }
   ],
   "execution_count": 9
  },
  {
   "metadata": {
    "ExecuteTime": {
     "end_time": "2025-01-02T01:50:21.753896Z",
     "start_time": "2025-01-02T01:50:21.737583Z"
    }
   },
   "cell_type": "code",
   "source": "samp_trees = np.random.choice(all_tree, size=K_v, p=samp_freq)",
   "id": "8a0362096510d14d",
   "outputs": [],
   "execution_count": 10
  },
  {
   "metadata": {
    "ExecuteTime": {
     "end_time": "2025-01-02T01:50:21.832877Z",
     "start_time": "2025-01-02T01:50:21.823511Z"
    }
   },
   "cell_type": "code",
   "source": "samp_trees",
   "id": "2b1fd4b0aa79951f",
   "outputs": [
    {
     "data": {
      "text/plain": [
       "array([Tree node '' (0x78785df9ea3), Tree node '' (0x7878820ace5),\n",
       "       Tree node '' (0x78786877bc7), Tree node '' (0x7878465fdd6),\n",
       "       Tree node '' (0x78785df9ea3), Tree node '' (0x787874f0679),\n",
       "       Tree node '' (0x78785df9ea3), Tree node '' (0x78786da5eb5),\n",
       "       Tree node '' (0x78784649cd6), Tree node '' (0x78785df9ea3),\n",
       "       Tree node '' (0x787867ce8e8), Tree node '' (0x7878465fdd6),\n",
       "       Tree node '' (0x7878465fdd6), Tree node '' (0x7878820ace5),\n",
       "       Tree node '' (0x78789bf96eb), Tree node '' (0x78785df9ea3),\n",
       "       Tree node '' (0x7878465fdd6), Tree node '' (0x78786da5eb5),\n",
       "       Tree node '' (0x7878465fdd6), Tree node '' (0x78787ad3ebe),\n",
       "       Tree node '' (0x787875935d6), Tree node '' (0x7878465fdd6),\n",
       "       Tree node '' (0x78785de5d07), Tree node '' (0x787845df3f1),\n",
       "       Tree node '' (0x787845df3f1), Tree node '' (0x7878465fdd6),\n",
       "       Tree node '' (0x78785df9ea3), Tree node '' (0x787867ce8e8),\n",
       "       Tree node '' (0x78786089b58), Tree node '' (0x78785df9ea3),\n",
       "       Tree node '' (0x7878465fdd6), Tree node '' (0x78784649cd6),\n",
       "       Tree node '' (0x7878782b5ee), Tree node '' (0x7878465fdd6),\n",
       "       Tree node '' (0x78785df10f4), Tree node '' (0x78784649cd6),\n",
       "       Tree node '' (0x78786da5eb5), Tree node '' (0x7878465fdd6),\n",
       "       Tree node '' (0x78788548582), Tree node '' (0x78785df10f4),\n",
       "       Tree node '' (0x78789bf96eb), Tree node '' (0x7878465fdd6),\n",
       "       Tree node '' (0x78786da5eb5), Tree node '' (0x78785b55655),\n",
       "       Tree node '' (0x787867ce8e8), Tree node '' (0x78788548582),\n",
       "       Tree node '' (0x7878465fdd6), Tree node '' (0x78786089b58),\n",
       "       Tree node '' (0x78785df9ea3), Tree node '' (0x78786da5eb5),\n",
       "       Tree node '' (0x7878465fdd6), Tree node '' (0x78786da5eb5),\n",
       "       Tree node '' (0x78785df9ea3), Tree node '' (0x78785df9ea3),\n",
       "       Tree node '' (0x78787ad0ca0), Tree node '' (0x7878782b5ee),\n",
       "       Tree node '' (0x78786da5eb5), Tree node '' (0x7878465fdd6),\n",
       "       Tree node '' (0x78786da5eb5), Tree node '' (0x7878465fdd6),\n",
       "       Tree node '' (0x787867ce8e8), Tree node '' (0x7878465fdd6),\n",
       "       Tree node '' (0x7878465fdd6), Tree node '' (0x78787054e10),\n",
       "       Tree node '' (0x78785df9ea3), Tree node '' (0x78786da5eb5),\n",
       "       Tree node '' (0x78788548582), Tree node '' (0x78785df9ea3),\n",
       "       Tree node '' (0x78788548582), Tree node '' (0x78788548582),\n",
       "       Tree node '' (0x7878465fdd6), Tree node '' (0x78788548582),\n",
       "       Tree node '' (0x78786da5eb5), Tree node '' (0x7878465fdd6),\n",
       "       Tree node '' (0x78788548582), Tree node '' (0x78785df9ea3),\n",
       "       Tree node '' (0x787845df3f1), Tree node '' (0x7878465fdd6),\n",
       "       Tree node '' (0x787874f0679), Tree node '' (0x78785df9ea3),\n",
       "       Tree node '' (0x787846564ee), Tree node '' (0x78786da5eb5),\n",
       "       Tree node '' (0x78786089b58), Tree node '' (0x787867ce8e8),\n",
       "       Tree node '' (0x78785df9ea3), Tree node '' (0x78788548582),\n",
       "       Tree node '' (0x7878465fdd6), Tree node '' (0x7878465fdd6),\n",
       "       Tree node '' (0x7878465fdd6), Tree node '' (0x78785df9ea3),\n",
       "       Tree node '' (0x78786da5eb5), Tree node '' (0x78784649cd6),\n",
       "       Tree node '' (0x7878465fdd6), Tree node '' (0x787867ce8e8),\n",
       "       Tree node '' (0x787874f0679), Tree node '' (0x78786da5eb5),\n",
       "       Tree node '' (0x78786db1a70), Tree node '' (0x787867ce8e8),\n",
       "       Tree node '' (0x78786da5eb5), Tree node '' (0x78785df9ea3),\n",
       "       Tree node '' (0x78786da5eb5), Tree node '' (0x7878465fdd6),\n",
       "       Tree node '' (0x78786da5eb5), Tree node '' (0x7878820ace5),\n",
       "       Tree node '' (0x78785df9ea3), Tree node '' (0x787875935d6),\n",
       "       Tree node '' (0x7878782b5ee), Tree node '' (0x787867ce8e8),\n",
       "       Tree node '' (0x7878465fdd6), Tree node '' (0x78786da5eb5),\n",
       "       Tree node '' (0x78786da5eb5), Tree node '' (0x7878820e416),\n",
       "       Tree node '' (0x7878465fdd6), Tree node '' (0x7878465fdd6),\n",
       "       Tree node '' (0x78788548582), Tree node '' (0x787845fa4dc),\n",
       "       Tree node '' (0x78786da5eb5), Tree node '' (0x78785df9ea3),\n",
       "       Tree node '' (0x7878465fdd6), Tree node '' (0x78786da5eb5),\n",
       "       Tree node '' (0x78789b447b5), Tree node '' (0x78784649cd6),\n",
       "       Tree node '' (0x787874f0679), Tree node '' (0x78786da5eb5),\n",
       "       Tree node '' (0x787845df3f1), Tree node '' (0x78785df9ea3),\n",
       "       Tree node '' (0x787878306c4), Tree node '' (0x787867ce8e8),\n",
       "       Tree node '' (0x78785df10f4), Tree node '' (0x78786da5eb5),\n",
       "       Tree node '' (0x7878465fdd6), Tree node '' (0x78786da5eb5),\n",
       "       Tree node '' (0x78789bf13df), Tree node '' (0x7878465fdd6),\n",
       "       Tree node '' (0x7878465fdd6), Tree node '' (0x78789bf13df),\n",
       "       Tree node '' (0x7878465fdd6), Tree node '' (0x78785df10f4),\n",
       "       Tree node '' (0x78789bf96eb), Tree node '' (0x787867ce8e8),\n",
       "       Tree node '' (0x78787ad3ebe), Tree node '' (0x78786da5eb5),\n",
       "       Tree node '' (0x7878820ace5), Tree node '' (0x78786089b58),\n",
       "       Tree node '' (0x78786da5eb5), Tree node '' (0x7878465fdd6),\n",
       "       Tree node '' (0x78785df9ea3), Tree node '' (0x787874fecd6),\n",
       "       Tree node '' (0x78785df9ea3), Tree node '' (0x78787f654c4),\n",
       "       Tree node '' (0x78786da5eb5), Tree node '' (0x78789b447b5),\n",
       "       Tree node '' (0x78786da5eb5), Tree node '' (0x78789b447b5),\n",
       "       Tree node '' (0x7878465fdd6), Tree node '' (0x78785df9ea3),\n",
       "       Tree node '' (0x7878465fdd6), Tree node '' (0x78785df9ea3),\n",
       "       Tree node '' (0x787867ce8e8), Tree node '' (0x787867ce8e8),\n",
       "       Tree node '' (0x787867ce8e8), Tree node '' (0x7878465fdd6),\n",
       "       Tree node '' (0x7878465fdd6), Tree node '' (0x787867ce8e8),\n",
       "       Tree node '' (0x7878465fdd6), Tree node '' (0x787874f0679),\n",
       "       Tree node '' (0x78786da5eb5), Tree node '' (0x78785df9ea3),\n",
       "       Tree node '' (0x78786db9ff7), Tree node '' (0x78785df9ea3),\n",
       "       Tree node '' (0x7878465fdd6), Tree node '' (0x78786da5eb5),\n",
       "       Tree node '' (0x7878465fdd6), Tree node '' (0x7878465fdd6),\n",
       "       Tree node '' (0x78786da5eb5), Tree node '' (0x78786da5eb5),\n",
       "       Tree node '' (0x7878465fdd6), Tree node '' (0x7878820e416),\n",
       "       Tree node '' (0x7878465fdd6), Tree node '' (0x78786da5eb5),\n",
       "       Tree node '' (0x78785df9ea3), Tree node '' (0x78784649cd6),\n",
       "       Tree node '' (0x78786da5eb5), Tree node '' (0x787874f0679),\n",
       "       Tree node '' (0x78786da5eb5), Tree node '' (0x787874f0679),\n",
       "       Tree node '' (0x78786da5eb5), Tree node '' (0x78786da5eb5),\n",
       "       Tree node '' (0x787874f0679), Tree node '' (0x78786da5eb5),\n",
       "       Tree node '' (0x787867ce8e8), Tree node '' (0x7878465fdd6),\n",
       "       Tree node '' (0x7878a417bb5), Tree node '' (0x787878306c4),\n",
       "       Tree node '' (0x78786da5eb5), Tree node '' (0x7878820ace5),\n",
       "       Tree node '' (0x7878465fdd6), Tree node '' (0x787867ce8e8),\n",
       "       Tree node '' (0x78785df10f4), Tree node '' (0x787846564ee),\n",
       "       Tree node '' (0x78784649cd6), Tree node '' (0x78785df9ea3),\n",
       "       Tree node '' (0x78785df9ea3), Tree node '' (0x78789bf13df),\n",
       "       Tree node '' (0x78785df9ea3), Tree node '' (0x78788548582),\n",
       "       Tree node '' (0x78786089b58), Tree node '' (0x7878465fdd6),\n",
       "       Tree node '' (0x7878465fdd6), Tree node '' (0x78788548582),\n",
       "       Tree node '' (0x7878465fdd6), Tree node '' (0x7878465fdd6),\n",
       "       Tree node '' (0x787867ce8e8), Tree node '' (0x78785df9ea3),\n",
       "       Tree node '' (0x787867ce8e8), Tree node '' (0x78788548582),\n",
       "       Tree node '' (0x7878465fdd6), Tree node '' (0x787867ce8e8),\n",
       "       Tree node '' (0x78789bf13df), Tree node '' (0x7878465fdd6),\n",
       "       Tree node '' (0x7878465fdd6), Tree node '' (0x78785df9ea3),\n",
       "       Tree node '' (0x78784649cd6), Tree node '' (0x78786da5eb5),\n",
       "       Tree node '' (0x7878a6b01cd), Tree node '' (0x787867ce8e8),\n",
       "       Tree node '' (0x7878465fdd6), Tree node '' (0x78786da5eb5),\n",
       "       Tree node '' (0x7878820ace5), Tree node '' (0x78786da5eb5),\n",
       "       Tree node '' (0x78788548582), Tree node '' (0x787845df3f1),\n",
       "       Tree node '' (0x7878820ace5), Tree node '' (0x78786da5eb5),\n",
       "       Tree node '' (0x7878465fdd6), Tree node '' (0x78789bf96eb),\n",
       "       Tree node '' (0x78786089b58), Tree node '' (0x7878465fdd6),\n",
       "       Tree node '' (0x78786da5eb5), Tree node '' (0x78784649cd6),\n",
       "       Tree node '' (0x787878306c4), Tree node '' (0x7878820e416),\n",
       "       Tree node '' (0x787867ce8e8), Tree node '' (0x7878a417bb5),\n",
       "       Tree node '' (0x7878465fdd6), Tree node '' (0x787845df3f1),\n",
       "       Tree node '' (0x78784649cd6), Tree node '' (0x78788548582),\n",
       "       Tree node '' (0x78788548582), Tree node '' (0x787846564ee),\n",
       "       Tree node '' (0x78787054e10), Tree node '' (0x787867ce8e8),\n",
       "       Tree node '' (0x78785df10f4), Tree node '' (0x7878820ace5),\n",
       "       Tree node '' (0x78788548582), Tree node '' (0x78784649cd6),\n",
       "       Tree node '' (0x78785df9ea3), Tree node '' (0x7878465fdd6),\n",
       "       Tree node '' (0x78786da5eb5), Tree node '' (0x7878465fdd6),\n",
       "       Tree node '' (0x78785df9ea3), Tree node '' (0x7878465fdd6),\n",
       "       Tree node '' (0x78784649cd6), Tree node '' (0x787874f0679),\n",
       "       Tree node '' (0x78785df9ea3), Tree node '' (0x78785df9ea3),\n",
       "       Tree node '' (0x7878782b5ee), Tree node '' (0x78786da5eb5),\n",
       "       Tree node '' (0x7878820e416), Tree node '' (0x78785df9ea3),\n",
       "       Tree node '' (0x78786da5eb5), Tree node '' (0x78786089b58),\n",
       "       Tree node '' (0x78786da5eb5), Tree node '' (0x78786da5eb5),\n",
       "       Tree node '' (0x7878465fdd6), Tree node '' (0x787867ce8e8),\n",
       "       Tree node '' (0x78785df9ea3), Tree node '' (0x7878465fdd6),\n",
       "       Tree node '' (0x78786089b58), Tree node '' (0x7878465fdd6),\n",
       "       Tree node '' (0x7878465fdd6), Tree node '' (0x78786da5eb5),\n",
       "       Tree node '' (0x7878820ace5), Tree node '' (0x787867ce8e8),\n",
       "       Tree node '' (0x7878465fdd6), Tree node '' (0x7878465fdd6),\n",
       "       Tree node '' (0x7878465fdd6), Tree node '' (0x7878465fdd6),\n",
       "       Tree node '' (0x787867ce8e8), Tree node '' (0x78787054e10),\n",
       "       Tree node '' (0x787867ce8e8), Tree node '' (0x78785df9ea3),\n",
       "       Tree node '' (0x7878465fdd6), Tree node '' (0x78786da5eb5),\n",
       "       Tree node '' (0x7878465fdd6), Tree node '' (0x78786da5eb5),\n",
       "       Tree node '' (0x78786da5eb5), Tree node '' (0x78786da5eb5),\n",
       "       Tree node '' (0x7878465fdd6), Tree node '' (0x78785de5d07),\n",
       "       Tree node '' (0x7878465fdd6), Tree node '' (0x7878465fdd6),\n",
       "       Tree node '' (0x78786da5eb5), Tree node '' (0x78784649cd6),\n",
       "       Tree node '' (0x7878465fdd6), Tree node '' (0x78786da5eb5),\n",
       "       Tree node '' (0x7878465fdd6), Tree node '' (0x78785df9ea3),\n",
       "       Tree node '' (0x78786da5eb5), Tree node '' (0x7878465fdd6),\n",
       "       Tree node '' (0x7878465fdd6), Tree node '' (0x78788548582),\n",
       "       Tree node '' (0x78789bf96eb), Tree node '' (0x787845df3f1),\n",
       "       Tree node '' (0x78786089b58), Tree node '' (0x787846564ee),\n",
       "       Tree node '' (0x78786da5eb5), Tree node '' (0x78785df9ea3),\n",
       "       Tree node '' (0x7878465fdd6), Tree node '' (0x78784649cd6),\n",
       "       Tree node '' (0x787874f0679), Tree node '' (0x7878a417bb5),\n",
       "       Tree node '' (0x78785df9ea3), Tree node '' (0x78786da5eb5),\n",
       "       Tree node '' (0x7878465fdd6), Tree node '' (0x7878465fdd6),\n",
       "       Tree node '' (0x78786da5eb5), Tree node '' (0x787845be264),\n",
       "       Tree node '' (0x78786da5eb5), Tree node '' (0x7878465fdd6),\n",
       "       Tree node '' (0x78785df9ea3), Tree node '' (0x7878465fdd6),\n",
       "       Tree node '' (0x78785df9ea3), Tree node '' (0x7878465fdd6),\n",
       "       Tree node '' (0x7878465fdd6), Tree node '' (0x7878465fdd6),\n",
       "       Tree node '' (0x787867ce8e8), Tree node '' (0x787867ce8e8),\n",
       "       Tree node '' (0x7878465fdd6), Tree node '' (0x78785df9ea3),\n",
       "       Tree node '' (0x78785df9ea3), Tree node '' (0x7878465fdd6),\n",
       "       Tree node '' (0x78786da5eb5), Tree node '' (0x78786da5eb5),\n",
       "       Tree node '' (0x78788548582), Tree node '' (0x78785df9ea3),\n",
       "       Tree node '' (0x7878465fdd6), Tree node '' (0x78789bf13df),\n",
       "       Tree node '' (0x78786da5eb5), Tree node '' (0x7878465fdd6),\n",
       "       Tree node '' (0x78785df9ea3), Tree node '' (0x78784649cd6),\n",
       "       Tree node '' (0x78785df9ea3), Tree node '' (0x787846564ee),\n",
       "       Tree node '' (0x7878465fdd6), Tree node '' (0x787857879e8),\n",
       "       Tree node '' (0x78785df9ea3), Tree node '' (0x78785df9ea3),\n",
       "       Tree node '' (0x78785df9ea3), Tree node '' (0x78786da5eb5),\n",
       "       Tree node '' (0x7878465fdd6), Tree node '' (0x78785b55655),\n",
       "       Tree node '' (0x78788548582), Tree node '' (0x78786da5eb5),\n",
       "       Tree node '' (0x78784639434), Tree node '' (0x78785df9ea3),\n",
       "       Tree node '' (0x7878465fdd6), Tree node '' (0x787845b10c7),\n",
       "       Tree node '' (0x78785df9ea3), Tree node '' (0x7878465fdd6),\n",
       "       Tree node '' (0x78786da5eb5), Tree node '' (0x787874f0679),\n",
       "       Tree node '' (0x78784649cd6), Tree node '' (0x7878465fdd6),\n",
       "       Tree node '' (0x787867ce8e8), Tree node '' (0x787874f0679),\n",
       "       Tree node '' (0x7878465fdd6), Tree node '' (0x7878465fdd6),\n",
       "       Tree node '' (0x78784649cd6), Tree node '' (0x7878465fdd6),\n",
       "       Tree node '' (0x78787ad0ca0), Tree node '' (0x78786da5eb5),\n",
       "       Tree node '' (0x7878a417bb5), Tree node '' (0x787874f0679),\n",
       "       Tree node '' (0x7878782b5ee), Tree node '' (0x78785df9ea3),\n",
       "       Tree node '' (0x78786089b58), Tree node '' (0x78786da5eb5),\n",
       "       Tree node '' (0x7878465fdd6), Tree node '' (0x78786da5eb5),\n",
       "       Tree node '' (0x787867ce8e8), Tree node '' (0x78786089b58),\n",
       "       Tree node '' (0x787846564ee), Tree node '' (0x78789b447b5),\n",
       "       Tree node '' (0x78786089b58), Tree node '' (0x787867ce8e8),\n",
       "       Tree node '' (0x78787f654c4), Tree node '' (0x7878820e416),\n",
       "       Tree node '' (0x78786089b58), Tree node '' (0x7878465fdd6),\n",
       "       Tree node '' (0x78785df9ea3), Tree node '' (0x7878465fdd6),\n",
       "       Tree node '' (0x78784649cd6), Tree node '' (0x78786da5eb5),\n",
       "       Tree node '' (0x787845df3f1), Tree node '' (0x787867ce8e8),\n",
       "       Tree node '' (0x787878306c4), Tree node '' (0x787878306c4),\n",
       "       Tree node '' (0x7878465fdd6), Tree node '' (0x787867ce8e8),\n",
       "       Tree node '' (0x78786da5eb5), Tree node '' (0x78786db9ff7),\n",
       "       Tree node '' (0x7878a417bb5), Tree node '' (0x78785df9ea3),\n",
       "       Tree node '' (0x787867ce8e8), Tree node '' (0x7878465fdd6),\n",
       "       Tree node '' (0x78784649cd6), Tree node '' (0x7878465fdd6),\n",
       "       Tree node '' (0x78787ad0ca0), Tree node '' (0x78789bf13df),\n",
       "       Tree node '' (0x7878820e416), Tree node '' (0x78786da5eb5),\n",
       "       Tree node '' (0x78785df9ea3), Tree node '' (0x7878820ace5),\n",
       "       Tree node '' (0x78785df9ea3), Tree node '' (0x78786da5eb5),\n",
       "       Tree node '' (0x78784649cd6), Tree node '' (0x78785df9ea3),\n",
       "       Tree node '' (0x787845df3f1), Tree node '' (0x7878a417bb5),\n",
       "       Tree node '' (0x78788548582), Tree node '' (0x78786da5eb5),\n",
       "       Tree node '' (0x7878820e416), Tree node '' (0x787867ce8e8),\n",
       "       Tree node '' (0x78785df9ea3), Tree node '' (0x7878465fdd6),\n",
       "       Tree node '' (0x78787ad0ca0), Tree node '' (0x7878465fdd6),\n",
       "       Tree node '' (0x78786da5eb5), Tree node '' (0x78786da5eb5),\n",
       "       Tree node '' (0x78788548582), Tree node '' (0x78786da5eb5),\n",
       "       Tree node '' (0x78789bf13df), Tree node '' (0x7878465fdd6),\n",
       "       Tree node '' (0x78786da5eb5), Tree node '' (0x78787054e10),\n",
       "       Tree node '' (0x78786da5eb5), Tree node '' (0x7878465fdd6),\n",
       "       Tree node '' (0x7878465fdd6), Tree node '' (0x7878a40abcd),\n",
       "       Tree node '' (0x78786da5eb5), Tree node '' (0x78788548582),\n",
       "       Tree node '' (0x78786da5eb5), Tree node '' (0x787867ce8e8),\n",
       "       Tree node '' (0x787845df3f1), Tree node '' (0x78785df9ea3),\n",
       "       Tree node '' (0x78785df9ea3), Tree node '' (0x78785df9ea3),\n",
       "       Tree node '' (0x78786da5eb5), Tree node '' (0x78786da5eb5),\n",
       "       Tree node '' (0x7878820ace5), Tree node '' (0x78786089b58),\n",
       "       Tree node '' (0x7878465fdd6), Tree node '' (0x787868705a3),\n",
       "       Tree node '' (0x7878465fdd6), Tree node '' (0x78786da5eb5),\n",
       "       Tree node '' (0x7878465fdd6), Tree node '' (0x78789b447b5),\n",
       "       Tree node '' (0x7878465fdd6), Tree node '' (0x7878465fdd6),\n",
       "       Tree node '' (0x78786da5eb5), Tree node '' (0x78788548582),\n",
       "       Tree node '' (0x78785df10f4), Tree node '' (0x78786da5eb5),\n",
       "       Tree node '' (0x78787ad0ca0), Tree node '' (0x78785b55655),\n",
       "       Tree node '' (0x78787ad3ebe), Tree node '' (0x787845df3f1),\n",
       "       Tree node '' (0x7878465fdd6), Tree node '' (0x787845be264),\n",
       "       Tree node '' (0x78786da5eb5), Tree node '' (0x7878465fdd6),\n",
       "       Tree node '' (0x787867ce8e8), Tree node '' (0x7878465fdd6),\n",
       "       Tree node '' (0x7878820e416), Tree node '' (0x78785df9ea3),\n",
       "       Tree node '' (0x78786da5eb5), Tree node '' (0x78786da5eb5),\n",
       "       Tree node '' (0x7878465fdd6), Tree node '' (0x7878820ace5),\n",
       "       Tree node '' (0x787867ce8e8), Tree node '' (0x78786da5eb5),\n",
       "       Tree node '' (0x78786da5eb5), Tree node '' (0x78786da5eb5),\n",
       "       Tree node '' (0x7878465fdd6), Tree node '' (0x78785df9ea3),\n",
       "       Tree node '' (0x78784649cd6), Tree node '' (0x7878465fdd6),\n",
       "       Tree node '' (0x78787054e10), Tree node '' (0x78785df9ea3)],\n",
       "      dtype=object)"
      ]
     },
     "execution_count": 11,
     "metadata": {},
     "output_type": "execute_result"
    }
   ],
   "execution_count": 11
  },
  {
   "metadata": {
    "ExecuteTime": {
     "end_time": "2025-01-02T01:50:21.931028Z",
     "start_time": "2025-01-02T01:50:21.924586Z"
    }
   },
   "cell_type": "code",
   "source": "samp_trees[0].get_topology_id()",
   "id": "f6873f255ee8fbcb",
   "outputs": [
    {
     "data": {
      "text/plain": [
       "'d793ccea88aa91fcbd76ab52f00dd9b7'"
      ]
     },
     "execution_count": 12,
     "metadata": {},
     "output_type": "execute_result"
    }
   ],
   "execution_count": 12
  },
  {
   "metadata": {
    "ExecuteTime": {
     "end_time": "2025-01-02T01:50:22.860609Z",
     "start_time": "2025-01-02T01:50:22.797600Z"
    }
   },
   "cell_type": "code",
   "source": [
    "sample_tree_count_dict = defaultdict(int)\n",
    "for tree in samp_trees:\n",
    "    sample_tree_count_dict[tree.get_topology_id()] += 1"
   ],
   "id": "bb7ad62f8452b641",
   "outputs": [],
   "execution_count": 13
  },
  {
   "metadata": {
    "ExecuteTime": {
     "end_time": "2025-01-02T01:50:23.803967Z",
     "start_time": "2025-01-02T01:50:23.795840Z"
    }
   },
   "cell_type": "code",
   "source": "sample_tree_count_dict",
   "id": "3289cd920b81cc38",
   "outputs": [
    {
     "data": {
      "text/plain": [
       "defaultdict(int,\n",
       "            {'d793ccea88aa91fcbd76ab52f00dd9b7': 67,\n",
       "             '2c1dcbd9f58b72726d8d314aa3247eb8': 12,\n",
       "             'c225e424a2cdfee6150944bab71a01fb': 1,\n",
       "             'defeedbb14f16409162dc32ae8d92e32': 119,\n",
       "             '73b4f359c9255a4bc21a7932b4c01959': 13,\n",
       "             '6349e0b78ea8c46eb65f0f2c7b17cad7': 92,\n",
       "             '405879943512aae474f9f7c2eba82bca': 21,\n",
       "             '4ace19aee7c20bed3d59de4ba5bb0f71': 38,\n",
       "             'edd9928d6b73e152571018b07ec28acf': 5,\n",
       "             '60ae074efb3bd7571a5d36a72d744d05': 3,\n",
       "             'd24e14ab6a3c9b0d7da94ad28c7cb91e': 2,\n",
       "             '8ef3be8721190fc412f4272cb51fc2e5': 2,\n",
       "             '87cae1b3dc920980f96fd7900b5d17fa': 11,\n",
       "             '88cd04dd5359c310461bea72d32bebd6': 14,\n",
       "             '5e700d6a01f6e084b9ffa62c7ccd11c6': 5,\n",
       "             'ad7335038be964eb02ac4e7842130cfc': 7,\n",
       "             '07d9eb88bbc0ccc18efccf49f5cfc053': 23,\n",
       "             '20876bb7d2f853277a43942d031b6f6b': 3,\n",
       "             '19753a590b816b1080e2629323c21157': 5,\n",
       "             '2af3cdb3243a1a2c64e750d7cbd6269e': 5,\n",
       "             'fd5b3aa472a9886347ee044745ecad79': 6,\n",
       "             'f51f948ed1d5a071db8abe8937ec2a13': 1,\n",
       "             'd7aa1c41c55d9153a16b5d0e3bdc83d2': 8,\n",
       "             '4ee8d78c15862871d4b2ba88a41260b1': 1,\n",
       "             'ecceaa855e6a48a7e4bf6071cd7334d8': 5,\n",
       "             'e4462f2c05324c03107e896fa605e324': 5,\n",
       "             '83c805e671d584211e6736d8d92c876c': 7,\n",
       "             '3ac6016186ec681164ec2ab0a0ce2410': 1,\n",
       "             '0127fe458c593487bb1423a5e50f8705': 2,\n",
       "             '9388a1408621f500244889219527bfe2': 2,\n",
       "             'aa683018e903d96e5145196272fa1aad': 6,\n",
       "             'eb6decbe7728031fd621c1e30eac144e': 1,\n",
       "             'c334396a02714d98ed65d18e7c33568b': 2,\n",
       "             '3a9f5f4829ec20c8e9433a3cf2928934': 1,\n",
       "             '59dd2be755dbed7857455d36ea014c57': 1,\n",
       "             'c00eb49d33a14e40099652d86a1eb296': 1,\n",
       "             '78e57013d8d851dc76961e5350a92095': 1,\n",
       "             'cd6ec65514618eff7fb70ae939126472': 1})"
      ]
     },
     "execution_count": 14,
     "metadata": {},
     "output_type": "execute_result"
    }
   ],
   "execution_count": 14
  },
  {
   "metadata": {
    "ExecuteTime": {
     "end_time": "2025-01-02T01:50:26.025377Z",
     "start_time": "2025-01-02T01:50:26.020493Z"
    }
   },
   "cell_type": "code",
   "source": "unique_samp_trees_dict = {tree.get_topology_id: tree for tree in samp_trees}",
   "id": "57d51a99f1bff8aa",
   "outputs": [],
   "execution_count": 15
  },
  {
   "metadata": {
    "ExecuteTime": {
     "end_time": "2025-01-02T01:50:26.530576Z",
     "start_time": "2025-01-02T01:50:26.524057Z"
    }
   },
   "cell_type": "code",
   "source": "sum(sample_tree_count_dict.values())",
   "id": "5e178f18bb544baf",
   "outputs": [
    {
     "data": {
      "text/plain": [
       "500"
      ]
     },
     "execution_count": 16,
     "metadata": {},
     "output_type": "execute_result"
    }
   ],
   "execution_count": 16
  },
  {
   "metadata": {
    "ExecuteTime": {
     "end_time": "2025-01-02T01:52:14.936167Z",
     "start_time": "2025-01-02T01:52:14.930953Z"
    }
   },
   "cell_type": "code",
   "source": [
    "n_taxa = 10\n",
    "random_tree = Tree()\n",
    "random_tree.populate(n_taxa)"
   ],
   "id": "80cfd9af6a80f293",
   "outputs": [],
   "execution_count": 18
  },
  {
   "metadata": {
    "ExecuteTime": {
     "end_time": "2025-01-02T01:52:44.554674Z",
     "start_time": "2025-01-02T01:52:44.549741Z"
    }
   },
   "cell_type": "code",
   "source": "leaf_names = list(\"ABCDEFGHIJ\")",
   "id": "9c4bbcd5e7a3965e",
   "outputs": [],
   "execution_count": 19
  },
  {
   "metadata": {
    "ExecuteTime": {
     "end_time": "2025-01-02T01:52:46.730503Z",
     "start_time": "2025-01-02T01:52:46.721611Z"
    }
   },
   "cell_type": "code",
   "source": "leaf_names",
   "id": "86121a2ed4e84c06",
   "outputs": [
    {
     "data": {
      "text/plain": [
       "['A', 'B', 'C', 'D', 'E', 'F', 'G', 'H', 'I', 'J']"
      ]
     },
     "execution_count": 20,
     "metadata": {},
     "output_type": "execute_result"
    }
   ],
   "execution_count": 20
  },
  {
   "metadata": {
    "ExecuteTime": {
     "end_time": "2025-01-02T01:56:49.354897Z",
     "start_time": "2025-01-02T01:56:49.349987Z"
    }
   },
   "cell_type": "code",
   "source": [
    "for i, leaf in enumerate(random_tree.iter_leaves()):\n",
    "    leaf.name = leaf_names[i]"
   ],
   "id": "675cfe7040b89eb0",
   "outputs": [],
   "execution_count": 22
  },
  {
   "metadata": {
    "ExecuteTime": {
     "end_time": "2025-01-02T01:56:55.905698Z",
     "start_time": "2025-01-02T01:56:55.900040Z"
    }
   },
   "cell_type": "code",
   "source": "print(random_tree)",
   "id": "45cc02d949354da5",
   "outputs": [
    {
     "name": "stdout",
     "output_type": "stream",
     "text": [
      "\n",
      "         /-A\n",
      "      /-|\n",
      "     |  |   /-B\n",
      "     |   \\-|\n",
      "     |     |   /-C\n",
      "   /-|      \\-|\n",
      "  |  |         \\-D\n",
      "  |  |\n",
      "  |  |      /-E\n",
      "  |  |   /-|\n",
      "--|   \\-|   \\-F\n",
      "  |     |\n",
      "  |      \\-G\n",
      "  |\n",
      "  |   /-H\n",
      "   \\-|\n",
      "     |   /-I\n",
      "      \\-|\n",
      "         \\-J\n"
     ]
    }
   ],
   "execution_count": 23
  },
  {
   "metadata": {
    "ExecuteTime": {
     "end_time": "2025-01-02T01:57:08.669389Z",
     "start_time": "2025-01-02T01:57:08.664159Z"
    }
   },
   "cell_type": "code",
   "source": [
    "for child in random_tree.children:\n",
    "    print(child)"
   ],
   "id": "1122b0b8c520bc7f",
   "outputs": [
    {
     "name": "stdout",
     "output_type": "stream",
     "text": [
      "\n",
      "      /-A\n",
      "   /-|\n",
      "  |  |   /-B\n",
      "  |   \\-|\n",
      "  |     |   /-C\n",
      "--|      \\-|\n",
      "  |         \\-D\n",
      "  |\n",
      "  |      /-E\n",
      "  |   /-|\n",
      "   \\-|   \\-F\n",
      "     |\n",
      "      \\-G\n",
      "\n",
      "   /-H\n",
      "--|\n",
      "  |   /-I\n",
      "   \\-|\n",
      "      \\-J\n"
     ]
    }
   ],
   "execution_count": 24
  },
  {
   "metadata": {
    "ExecuteTime": {
     "end_time": "2025-01-02T06:08:45.345952Z",
     "start_time": "2025-01-02T06:08:45.338710Z"
    }
   },
   "cell_type": "code",
   "source": "random_tree_unrooted = random_tree.unroot()",
   "id": "478194f8ae2c4d71",
   "outputs": [],
   "execution_count": 25
  },
  {
   "metadata": {
    "ExecuteTime": {
     "end_time": "2025-01-02T06:15:10.023335Z",
     "start_time": "2025-01-02T06:15:10.016225Z"
    }
   },
   "cell_type": "code",
   "source": "print(random_tree)\n",
   "id": "70357267d357d405",
   "outputs": [
    {
     "name": "stdout",
     "output_type": "stream",
     "text": [
      "None\n"
     ]
    }
   ],
   "execution_count": 32
  },
  {
   "metadata": {
    "ExecuteTime": {
     "end_time": "2025-01-02T07:13:39.396740Z",
     "start_time": "2025-01-02T07:13:39.391697Z"
    }
   },
   "cell_type": "code",
   "source": "print(random_tree.children[0])",
   "id": "6cb08f89a1258bb9",
   "outputs": [
    {
     "name": "stdout",
     "output_type": "stream",
     "text": [
      "\n",
      "   /-H\n",
      "--|\n",
      "  |   /-I\n",
      "   \\-|\n",
      "      \\-J\n"
     ]
    }
   ],
   "execution_count": 33
  },
  {
   "metadata": {
    "ExecuteTime": {
     "end_time": "2025-01-02T07:13:40.309335Z",
     "start_time": "2025-01-02T07:13:40.304616Z"
    }
   },
   "cell_type": "code",
   "source": "print(random_tree.children[1])",
   "id": "53007803dec0a4c8",
   "outputs": [
    {
     "name": "stdout",
     "output_type": "stream",
     "text": [
      "\n",
      "   /-A\n",
      "--|\n",
      "  |   /-B\n",
      "   \\-|\n",
      "     |   /-C\n",
      "      \\-|\n",
      "         \\-D\n"
     ]
    }
   ],
   "execution_count": null
  },
  {
   "metadata": {
    "ExecuteTime": {
     "end_time": "2025-01-02T07:13:58.832938Z",
     "start_time": "2025-01-02T07:13:58.826219Z"
    }
   },
   "cell_type": "code",
   "source": "print(random_tree.children[2])",
   "id": "7d0a1317d2df3711",
   "outputs": [
    {
     "name": "stdout",
     "output_type": "stream",
     "text": [
      "\n",
      "      /-E\n",
      "   /-|\n",
      "--|   \\-F\n",
      "  |\n",
      "   \\-G\n"
     ]
    }
   ],
   "execution_count": 35
  },
  {
   "metadata": {
    "ExecuteTime": {
     "end_time": "2025-01-02T08:05:55.589457Z",
     "start_time": "2025-01-02T08:05:55.583892Z"
    }
   },
   "cell_type": "code",
   "source": "print(random_tree.children[0].get_sisters()[0])",
   "id": "70a75458c8ee775",
   "outputs": [
    {
     "name": "stdout",
     "output_type": "stream",
     "text": [
      "\n",
      "   /-A\n",
      "--|\n",
      "  |   /-B\n",
      "   \\-|\n",
      "     |   /-C\n",
      "      \\-|\n",
      "         \\-D\n"
     ]
    }
   ],
   "execution_count": 37
  },
  {
   "metadata": {
    "ExecuteTime": {
     "end_time": "2025-01-02T08:06:31.779939Z",
     "start_time": "2025-01-02T08:06:31.774354Z"
    }
   },
   "cell_type": "code",
   "source": "print(random_tree.children[0].get_sisters()[1])",
   "id": "68b7d95abf627cd8",
   "outputs": [
    {
     "name": "stdout",
     "output_type": "stream",
     "text": [
      "\n",
      "      /-E\n",
      "   /-|\n",
      "--|   \\-F\n",
      "  |\n",
      "   \\-G\n"
     ]
    }
   ],
   "execution_count": 38
  },
  {
   "metadata": {
    "ExecuteTime": {
     "end_time": "2025-01-02T08:06:44.360469Z",
     "start_time": "2025-01-02T08:06:44.355377Z"
    }
   },
   "cell_type": "code",
   "source": "print(random_tree)",
   "id": "6a147be9859e736",
   "outputs": [
    {
     "name": "stdout",
     "output_type": "stream",
     "text": [
      "\n",
      "      /-H\n",
      "   /-|\n",
      "  |  |   /-I\n",
      "  |   \\-|\n",
      "  |      \\-J\n",
      "  |\n",
      "  |   /-A\n",
      "  |--|\n",
      "--|  |   /-B\n",
      "  |   \\-|\n",
      "  |     |   /-C\n",
      "  |      \\-|\n",
      "  |         \\-D\n",
      "  |\n",
      "  |      /-E\n",
      "  |   /-|\n",
      "   \\-|   \\-F\n",
      "     |\n",
      "      \\-G\n"
     ]
    }
   ],
   "execution_count": 39
  },
  {
   "metadata": {
    "ExecuteTime": {
     "end_time": "2025-01-02T08:07:50.094624Z",
     "start_time": "2025-01-02T08:07:50.088755Z"
    }
   },
   "cell_type": "code",
   "source": "print(random_tree.children[1].children[0])",
   "id": "26b2caecc6687870",
   "outputs": [
    {
     "name": "stdout",
     "output_type": "stream",
     "text": [
      "\n",
      "--A\n"
     ]
    }
   ],
   "execution_count": 41
  },
  {
   "metadata": {
    "ExecuteTime": {
     "end_time": "2025-01-02T08:08:38.417152Z",
     "start_time": "2025-01-02T08:08:38.410707Z"
    }
   },
   "cell_type": "code",
   "source": "print(random_tree.children[1].children[0].get_sisters())",
   "id": "27504d6461841b70",
   "outputs": [
    {
     "name": "stdout",
     "output_type": "stream",
     "text": [
      "[Tree node '' (0x787844d0e8b)]\n"
     ]
    }
   ],
   "execution_count": 42
  },
  {
   "metadata": {
    "ExecuteTime": {
     "end_time": "2025-01-02T08:08:51.731932Z",
     "start_time": "2025-01-02T08:08:51.724627Z"
    }
   },
   "cell_type": "code",
   "source": "print(random_tree.children[1].children[0].get_sisters()[0])",
   "id": "6c04ecd08e625e85",
   "outputs": [
    {
     "name": "stdout",
     "output_type": "stream",
     "text": [
      "\n",
      "   /-B\n",
      "--|\n",
      "  |   /-C\n",
      "   \\-|\n",
      "      \\-D\n"
     ]
    }
   ],
   "execution_count": 43
  },
  {
   "metadata": {
    "ExecuteTime": {
     "end_time": "2025-01-02T11:41:30.339308Z",
     "start_time": "2025-01-02T11:41:30.331326Z"
    }
   },
   "cell_type": "code",
   "source": [
    "z = {'a': 1, 'b': 2, 'c': 3, 'd': 4, 'e': 5, 'f': 6}\n",
    "print(len(z))"
   ],
   "id": "7d8c2173dd151adf",
   "outputs": [
    {
     "name": "stdout",
     "output_type": "stream",
     "text": [
      "6\n"
     ]
    }
   ],
   "execution_count": 44
  },
  {
   "metadata": {},
   "cell_type": "code",
   "outputs": [],
   "execution_count": null,
   "source": "",
   "id": "58ebe5975b0bc997"
  }
 ],
 "metadata": {
  "kernelspec": {
   "display_name": "Python 3",
   "language": "python",
   "name": "python3"
  },
  "language_info": {
   "codemirror_mode": {
    "name": "ipython",
    "version": 2
   },
   "file_extension": ".py",
   "mimetype": "text/x-python",
   "name": "python",
   "nbconvert_exporter": "python",
   "pygments_lexer": "ipython2",
   "version": "2.7.6"
  }
 },
 "nbformat": 4,
 "nbformat_minor": 5
}
